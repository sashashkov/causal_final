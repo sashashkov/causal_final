{
 "cells": [
  {
   "cell_type": "code",
   "execution_count": 1,
   "id": "b7929cdf",
   "metadata": {},
   "outputs": [],
   "source": [
    "import pandas as pd"
   ]
  },
  {
   "cell_type": "code",
   "execution_count": 2,
   "id": "a54e998f",
   "metadata": {},
   "outputs": [
    {
     "data": {
      "text/plain": [
       "Index(['year', 'state', 'state_po', 'state_fips', 'state_cen', 'state_ic',\n",
       "       'office', 'candidate', 'party_detailed', 'writein', 'candidatevotes',\n",
       "       'totalvotes', 'version', 'notes', 'party_simplified'],\n",
       "      dtype='object')"
      ]
     },
     "execution_count": 2,
     "metadata": {},
     "output_type": "execute_result"
    }
   ],
   "source": [
    "# read election data\n",
    "\n",
    "df = pd.read_csv('1976-2020-president.csv')\n",
    "df.columns"
   ]
  },
  {
   "cell_type": "code",
   "execution_count": 3,
   "id": "0df2a907",
   "metadata": {},
   "outputs": [],
   "source": [
    "# trim election data to 2020 two-party data\n",
    "\n",
    "df = df[df['year'] == 2020]\n",
    "df = df[df['writein'] == False]\n",
    "df_dem = df[df['party_simplified'] == 'DEMOCRAT']\n",
    "df_rep = df[df['party_simplified'] == 'REPUBLICAN']"
   ]
  },
  {
   "cell_type": "code",
   "execution_count": 4,
   "id": "bde09f9a",
   "metadata": {},
   "outputs": [],
   "source": [
    "# get two-party dem vote share as proxy for partisan lean\n",
    "\n",
    "vote_dict = {}\n",
    "partisan_lean = pd.DataFrame(columns = ['state', 'abbrev', 'vote_share'])\n",
    "\n",
    "for state_po, state in zip(list(df_dem['state_po']), list(df_dem['state'])):\n",
    "    dem_votes = df_dem[df_dem['state_po'] == state_po].iloc[0]['candidatevotes']\n",
    "    rep_votes = df_rep[df_rep['state_po'] == state_po].iloc[0]['candidatevotes']\n",
    "    vote_share = dem_votes/(dem_votes + rep_votes)\n",
    "    vote_dict[state_po] = vote_share\n",
    "    partisan_lean.loc[len(partisan_lean.index)] = [state, state_po, vote_share] "
   ]
  },
  {
   "cell_type": "code",
   "execution_count": 5,
   "id": "0f2b3d7e",
   "metadata": {},
   "outputs": [],
   "source": [
    "# dump file\n",
    "partisan_lean.to_csv('partisan_lean.csv')"
   ]
  },
  {
   "cell_type": "code",
   "execution_count": null,
   "id": "fd5673ff",
   "metadata": {},
   "outputs": [],
   "source": []
  }
 ],
 "metadata": {
  "kernelspec": {
   "display_name": "Python 3",
   "language": "python",
   "name": "python3"
  },
  "language_info": {
   "codemirror_mode": {
    "name": "ipython",
    "version": 3
   },
   "file_extension": ".py",
   "mimetype": "text/x-python",
   "name": "python",
   "nbconvert_exporter": "python",
   "pygments_lexer": "ipython3",
   "version": "3.8.9"
  }
 },
 "nbformat": 4,
 "nbformat_minor": 5
}
