{
 "cells": [
  {
   "cell_type": "code",
   "execution_count": 2,
   "id": "60ac4d56",
   "metadata": {},
   "outputs": [],
   "source": [
    "import numpy as np\n",
    "import os"
   ]
  },
  {
   "cell_type": "code",
   "execution_count": 3,
   "id": "8f6f26a0",
   "metadata": {},
   "outputs": [],
   "source": [
    "import csv\n",
    "import numpy as np\n",
    "        \n",
    "        \n",
    "def trim_data(month, filename):\n",
    "    f = os.path.join('data', month, filename)\n",
    "    \n",
    "    with open(f, 'r') as f:\n",
    "        data = list(csv.reader(f, delimiter=\",\"))\n",
    "        \n",
    "    trimmed = [[i[0]] for i in data]\n",
    "    \n",
    "    out_file = os.path.join('data_trimmed', month, filename)\n",
    "    \n",
    "    with open(out_file, 'w') as f:\n",
    "      \n",
    "    # using csv.writer method from CSV package\n",
    "        write = csv.writer(f)\n",
    "      \n",
    "        write.writerows(trimmed)\n"
   ]
  },
  {
   "cell_type": "code",
   "execution_count": 4,
   "id": "221e2e43",
   "metadata": {},
   "outputs": [],
   "source": [
    "month = '2021_06'\n",
    "\n",
    "\n",
    " \n",
    "# iterate over files in\n",
    "# that directory\n",
    "full_dir = os.path.join('data', month)\n",
    "out_dir = os.path.join('data_trimmed', month)\n",
    "os.mkdir(out_dir)\n",
    "for filename in os.listdir(full_dir):\n",
    "    trim_data(month, filename)"
   ]
  },
  {
   "cell_type": "code",
   "execution_count": null,
   "id": "428945ed",
   "metadata": {},
   "outputs": [],
   "source": []
  }
 ],
 "metadata": {
  "kernelspec": {
   "display_name": "Python 3",
   "language": "python",
   "name": "python3"
  },
  "language_info": {
   "codemirror_mode": {
    "name": "ipython",
    "version": 3
   },
   "file_extension": ".py",
   "mimetype": "text/x-python",
   "name": "python",
   "nbconvert_exporter": "python",
   "pygments_lexer": "ipython3",
   "version": "3.8.9"
  }
 },
 "nbformat": 4,
 "nbformat_minor": 5
}
